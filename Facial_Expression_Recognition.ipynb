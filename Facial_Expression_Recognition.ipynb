{
 "cells": [
  {
   "cell_type": "code",
   "execution_count": 1,
   "metadata": {
    "collapsed": true
   },
   "outputs": [],
   "source": [
    "import os\n",
    "\n",
    "os.environ['KMP_DUPLICATE_LIB_OK']='True'"
   ]
  },
  {
   "cell_type": "code",
   "execution_count": 2,
   "metadata": {},
   "outputs": [
    {
     "name": "stderr",
     "output_type": "stream",
     "text": [
      "/Users/mmjahanara/anaconda/lib/python3.6/importlib/_bootstrap.py:219: RuntimeWarning: numpy.dtype size changed, may indicate binary incompatibility. Expected 96, got 88\n",
      "  return f(*args, **kwds)\n",
      "/Users/mmjahanara/anaconda/lib/python3.6/importlib/_bootstrap.py:219: RuntimeWarning: numpy.dtype size changed, may indicate binary incompatibility. Expected 96, got 88\n",
      "  return f(*args, **kwds)\n",
      "/Users/mmjahanara/anaconda/lib/python3.6/importlib/_bootstrap.py:219: RuntimeWarning: numpy.dtype size changed, may indicate binary incompatibility. Expected 96, got 88\n",
      "  return f(*args, **kwds)\n"
     ]
    }
   ],
   "source": [
    "from tensorflow.keras import Sequential\n",
    "from tensorflow.keras.layers import Dense, Conv2D, MaxPool2D, Activation, Flatten, Dropout\n",
    "import pandas as pd\n",
    "import matplotlib.pyplot as plt\n",
    "import numpy as np\n",
    "from random import randint"
   ]
  },
  {
   "cell_type": "code",
   "execution_count": 3,
   "metadata": {
    "collapsed": true
   },
   "outputs": [],
   "source": [
    "# read data :D\n",
    "\n",
    "df = pd.read_csv('fer2013.csv')"
   ]
  },
  {
   "cell_type": "code",
   "execution_count": 4,
   "metadata": {
    "scrolled": true
   },
   "outputs": [
    {
     "name": "stdout",
     "output_type": "stream",
     "text": [
      "columns: Index(['emotion', 'pixels', 'Usage'], dtype='object')\n",
      "size: (35887, 3)\n",
      "emotions list: [0 2 4 6 3 5 1]\n",
      "usage list: ['Training' 'PublicTest' 'PrivateTest']\n",
      "\n",
      "random draw:\n",
      "emotion: [0. 0. 0. 1. 0. 0. 0.]\n",
      "usage: Training\n"
     ]
    },
    {
     "data": {
      "image/png": "[encoded data removed]",
      "text/plain": [
       "<Figure size 432x288 with 1 Axes>"
      ]
     },
     "metadata": {},
     "output_type": "display_data"
    }
   ],
   "source": [
    "def cnv_1D_to_2D(img_str):\n",
    "    img = [int(x) for x in img_str.split(' ')]\n",
    "    img = np.array(img).reshape((48, 48, 1))\n",
    "    return img\n",
    "\n",
    "def index_to_one_hot(i, number_of_classes = 7):\n",
    "    res = np.zeros(number_of_classes)\n",
    "    res[i] = 1\n",
    "    return res\n",
    "\n",
    "\n",
    "print('columns:', df.columns)\n",
    "print('size:', df.shape)\n",
    "\n",
    "print('emotions list:', df['emotion'].unique())\n",
    "print('usage list:', df['Usage'].unique())\n",
    "\n",
    "\n",
    "df['pixels'] = df['pixels'].apply(cnv_1D_to_2D)\n",
    "df['emotion'] = df['emotion'].apply(index_to_one_hot)\n",
    "\n",
    "\n",
    "# make sense of data\n",
    "def draw_sample(ind):\n",
    "    print('emotion:', df['emotion'][ind])\n",
    "    print('usage:', df['Usage'][ind])\n",
    "    \n",
    "    img = df.loc[ind, 'pixels']\n",
    "    plt.imshow(img.reshape((48, 48)))\n",
    "    plt.show()\n",
    "    \n",
    "print('\\nrandom draw:')\n",
    "draw_sample(randint(0, df.shape[0]-1))\n"
   ]
  },
  {
   "cell_type": "code",
   "execution_count": 5,
   "metadata": {
    "collapsed": true
   },
   "outputs": [],
   "source": [
    "# extract train data\n",
    "X_train = []\n",
    "for img in df[df['Usage'] == 'Training']['pixels']:\n",
    "    X_train.append(img)\n",
    "X_train = np.array(X_train)\n",
    "\n",
    "Y_train = []\n",
    "for emo in df[df['Usage'] == 'Training']['emotion']:\n",
    "    Y_train.append(emo)\n",
    "Y_train = np.array(Y_train)\n",
    "\n",
    "\n",
    "# extract test data\n",
    "X_test = []\n",
    "for img in df[df['Usage'] == 'PublicTest']['pixels']:\n",
    "    X_test.append(img)\n",
    "X_test = np.array(X_test)\n",
    "\n",
    "Y_test = []\n",
    "for emo in df[df['Usage'] == 'PublicTest']['emotion']:\n",
    "    Y_test.append(emo)\n",
    "Y_test = np.array(Y_test)"
   ]
  },
  {
   "cell_type": "code",
   "execution_count": 6,
   "metadata": {},
   "outputs": [
    {
     "name": "stdout",
     "output_type": "stream",
     "text": [
      "Epoch 1/10\n",
      "28709/28709 [==============================] - 49s 2ms/step - loss: 1.9216 - acc: 0.2752\n",
      "Epoch 2/10\n",
      "28709/28709 [==============================] - 47s 2ms/step - loss: 1.5751 - acc: 0.3902\n",
      "Epoch 3/10\n",
      "28709/28709 [==============================] - 44s 2ms/step - loss: 1.4589 - acc: 0.4405\n",
      "Epoch 4/10\n",
      "28709/28709 [==============================] - 44s 2ms/step - loss: 1.3803 - acc: 0.4722: 2s - \n",
      "Epoch 5/10\n",
      "28709/28709 [==============================] - 47s 2ms/step - loss: 1.3232 - acc: 0.4966\n",
      "Epoch 6/10\n",
      "28709/28709 [==============================] - 47s 2ms/step - loss: 1.2581 - acc: 0.5218\n",
      "Epoch 7/10\n",
      "28709/28709 [==============================] - 46s 2ms/step - loss: 1.2084 - acc: 0.5419\n",
      "Epoch 8/10\n",
      "28709/28709 [==============================] - 46s 2ms/step - loss: 1.1686 - acc: 0.5556\n",
      "Epoch 9/10\n",
      "28709/28709 [==============================] - 45s 2ms/step - loss: 1.1124 - acc: 0.5795\n",
      "Epoch 10/10\n",
      "28709/28709 [==============================] - 45s 2ms/step - loss: 1.0665 - acc: 0.5955\n"
     ]
    },
    {
     "data": {
      "text/plain": [
       "<tensorflow.python.keras.callbacks.History at 0x1842643668>"
      ]
     },
     "execution_count": 6,
     "metadata": {},
     "output_type": "execute_result"
    }
   ],
   "source": [
    "# build a simple \n",
    "model = Sequential()\n",
    "\n",
    "model.add(Conv2D(32,(3,3), input_shape=(48, 48,1)))\n",
    "model.add(Activation('relu'))\n",
    "model.add(MaxPool2D(pool_size=(2, 2)))\n",
    "\n",
    "model.add(Conv2D(64,(3,3)))\n",
    "model.add(Activation('relu'))\n",
    "model.add(MaxPool2D(pool_size=(2, 2)))\n",
    "\n",
    "model.add(Conv2D(128,(3,3)))\n",
    "model.add(Activation('relu'))\n",
    "model.add(MaxPool2D(pool_size=(2, 2)))\n",
    "\n",
    "model.add(Conv2D(256,(3,3)))\n",
    "model.add(Activation('relu'))\n",
    "model.add(MaxPool2D(pool_size=(2, 2)))\n",
    "\n",
    "model.add(Flatten())\n",
    "\n",
    "model.add(Dense(128))\n",
    "model.add(Activation('relu'))\n",
    "model.add(Dropout(0.5))\n",
    "\n",
    "model.add(Dense(7)) # number of classes is 7\n",
    "model.add(Activation('softmax'))\n",
    "\n",
    "model.compile(loss='categorical_crossentropy', optimizer='adam', metrics=['accuracy'])\n",
    "\n",
    "model.fit(X_train, Y_train, batch_size=64, epochs=10)"
   ]
  },
  {
   "cell_type": "code",
   "execution_count": 7,
   "metadata": {
    "collapsed": true
   },
   "outputs": [],
   "source": [
    "model.save('./model01')"
   ]
  },
  {
   "cell_type": "code",
   "execution_count": 8,
   "metadata": {},
   "outputs": [
    {
     "name": "stdout",
     "output_type": "stream",
     "text": [
      "3589/3589 [==============================] - 2s 634us/step\n"
     ]
    }
   ],
   "source": [
    "score = model.evaluate(X_test, Y_test)"
   ]
  },
  {
   "cell_type": "code",
   "execution_count": 9,
   "metadata": {},
   "outputs": [
    {
     "name": "stdout",
     "output_type": "stream",
     "text": [
      "[1.2826062089123411, 0.5302312621983288]\n"
     ]
    }
   ],
   "source": [
    "print(score)"
   ]
  },
  {
   "cell_type": "code",
   "execution_count": null,
   "metadata": {
    "collapsed": true
   },
   "outputs": [],
   "source": []
  }
 ],
 "metadata": {
  "kernelspec": {
   "display_name": "Python 3",
   "language": "python",
   "name": "python3"
  },
  "language_info": {
   "codemirror_mode": {
    "name": "ipython",
    "version": 3
   },
   "file_extension": ".py",
   "mimetype": "text/x-python",
   "name": "python",
   "nbconvert_exporter": "python",
   "pygments_lexer": "ipython3",
   "version": "3.6.7"
  }
 },
 "nbformat": 4,
 "nbformat_minor": 2
}
